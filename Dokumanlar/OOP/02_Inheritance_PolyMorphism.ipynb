{
 "cells": [
  {
   "attachments": {},
   "cell_type": "markdown",
   "metadata": {},
   "source": [
    "#### Inheritance"
   ]
  },
  {
   "cell_type": "code",
   "execution_count": null,
   "metadata": {},
   "outputs": [],
   "source": [
    "class A:\n",
    "    def __init__(self):\n",
    "        self.a = \"A\"\n",
    "    def soyleA(self):\n",
    "        print(self.a)\n",
    "    def soyle(self):\n",
    "        print(\"A Sınıfından Çalıştım\")\n",
    "\n",
    "class B:\n",
    "    def __init__(self):\n",
    "        self.b = \"B\"\n",
    "    \n",
    "    def soyleA(self):\n",
    "        print(self.a)\n",
    "    \n",
    "    def soyle(self):\n",
    "        print(\"B Sınıfından Çalıştım\")\n",
    "        "
   ]
  },
  {
   "cell_type": "code",
   "execution_count": 4,
   "metadata": {},
   "outputs": [
    {
     "name": "stdout",
     "output_type": "stream",
     "text": [
      "A Sınıfından Çalıştım\n"
     ]
    }
   ],
   "source": [
    "class A: # parent\n",
    "    def __init__(self):\n",
    "        self.a = \"A\"\n",
    "    \n",
    "    def soyleA(self):\n",
    "        print(self.a)\n",
    "    \n",
    "    def soyle(self):\n",
    "        print(\"A Sınıfından Çalıştım\")\n",
    "\n",
    "class B(A):  # child\n",
    "    pass\n",
    "    # def __init__(self):\n",
    "    #     self.b = \"B\"\n",
    "    \n",
    "    # def soyleA(self):\n",
    "    #     print(self.a)\n",
    "    \n",
    "    # def soyle(self):\n",
    "    #     print(\"B Sınıfından Çalıştım\")\n",
    "obj1 = B()\n",
    "obj1.soyle()"
   ]
  },
  {
   "cell_type": "code",
   "execution_count": 5,
   "metadata": {},
   "outputs": [
    {
     "name": "stdout",
     "output_type": "stream",
     "text": [
      "A Sınıfından Çalıştım\n"
     ]
    }
   ],
   "source": [
    "class A: # parent\n",
    "    def __init__(self):\n",
    "        self.a = \"A\"\n",
    "    \n",
    "    def soyleA(self):\n",
    "        print(self.a)\n",
    "    \n",
    "    def soyle(self):\n",
    "        print(\"A Sınıfından Çalıştım\")\n",
    "\n",
    "class B(A):  \n",
    "    pass\n",
    "obj1 = B()\n",
    "obj1.soyle()"
   ]
  },
  {
   "cell_type": "code",
   "execution_count": 6,
   "metadata": {},
   "outputs": [
    {
     "name": "stdout",
     "output_type": "stream",
     "text": [
      "B Sınıfından Çalıştım\n",
      "A\n",
      "A Sınıfından Çalıştım\n",
      "A\n",
      "B\n"
     ]
    }
   ],
   "source": [
    "class A: # parent\n",
    "    def __init__(self):\n",
    "        self.a = \"A\"\n",
    "    \n",
    "    def soyleA(self):\n",
    "        print(self.a)\n",
    "    \n",
    "    def soyle(self):\n",
    "        print(\"A Sınıfından Çalıştım\")\n",
    "\n",
    "class B(A): # Inheritance \n",
    "    def __init__(self): # overload POLYMORPHISM\n",
    "        super().__init__()\n",
    "        self.b = \"B\"\n",
    "    def soyleB(self):\n",
    "        print(self.b)\n",
    "\n",
    "    def soyle(self): # override POLYMORPHISM\n",
    "        print(\"B Sınıfından Çalıştım\")\n",
    "\n",
    "obj1 = B()\n",
    "obj1.soyle()\n",
    "obj1.soyleA()\n",
    "obj2 = A()\n",
    "obj2.soyle()\n",
    "obj2.soyleA()\n",
    "obj1.soyleB()"
   ]
  },
  {
   "cell_type": "code",
   "execution_count": null,
   "metadata": {},
   "outputs": [],
   "source": []
  }
 ],
 "metadata": {
  "kernelspec": {
   "display_name": "Python 3",
   "language": "python",
   "name": "python3"
  },
  "language_info": {
   "codemirror_mode": {
    "name": "ipython",
    "version": 3
   },
   "file_extension": ".py",
   "mimetype": "text/x-python",
   "name": "python",
   "nbconvert_exporter": "python",
   "pygments_lexer": "ipython3",
   "version": "3.8.13 (default, Dec 30 2022, 16:12:50) \n[GCC 9.4.0]"
  },
  "orig_nbformat": 4,
  "vscode": {
   "interpreter": {
    "hash": "9ac03a0a6051494cc606d484d27d20fce22fb7b4d169f583271e11d5ba46a56e"
   }
  }
 },
 "nbformat": 4,
 "nbformat_minor": 2
}
