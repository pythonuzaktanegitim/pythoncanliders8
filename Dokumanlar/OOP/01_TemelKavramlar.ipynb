{
 "cells": [
  {
   "attachments": {},
   "cell_type": "markdown",
   "metadata": {},
   "source": [
    "## OOP Temel Kavramlar\n",
    "### 1. Sınıf,Nesne\n",
    "### 2. Özellik,Metod --- Attribute,Method\n",
    "### 3. `__init__` fonksiyonu Constructor Fonksiyon\n",
    "### 4. Sınıf Özelliği ve Metodu\n",
    "### 5. Örnek Özellik ve Metodu"
   ]
  },
  {
   "attachments": {},
   "cell_type": "markdown",
   "metadata": {},
   "source": [
    "#########################################################################"
   ]
  },
  {
   "attachments": {},
   "cell_type": "markdown",
   "metadata": {},
   "source": [
    "#### 1. Sınıf,Nesne"
   ]
  },
  {
   "cell_type": "code",
   "execution_count": 1,
   "metadata": {},
   "outputs": [],
   "source": [
    "class Sinif: # sınıf\n",
    "    pass"
   ]
  },
  {
   "cell_type": "code",
   "execution_count": 4,
   "metadata": {},
   "outputs": [
    {
     "data": {
      "text/plain": [
       "<__main__.Sinif at 0x7fe4a1dbf8b0>"
      ]
     },
     "execution_count": 4,
     "metadata": {},
     "output_type": "execute_result"
    }
   ],
   "source": [
    "Sinif() # Nesne"
   ]
  },
  {
   "attachments": {},
   "cell_type": "markdown",
   "metadata": {},
   "source": [
    "#### 2. Özellik,Metod"
   ]
  },
  {
   "attachments": {},
   "cell_type": "markdown",
   "metadata": {},
   "source": [
    "Bir sınıf oluştururken bu sınıf üzerinden oluşturulacak olan nesnenin  özelliklerini (örn, kasrengi,gozrengi vb) attribute olarak tutabileceğimiz alanları belirleriz. Aynı zamanda oluşturulacak olan nesnenin işlevlerini (örn nefesalma,beslenme) metod olarak tutabileceğimiz fonksiyonları tanımlarız."
   ]
  },
  {
   "cell_type": "code",
   "execution_count": 6,
   "metadata": {},
   "outputs": [],
   "source": [
    "class Sinif:\n",
    "    ozellik = \"attribute\"\n",
    "    def method(): # method\n",
    "        pass"
   ]
  },
  {
   "attachments": {},
   "cell_type": "markdown",
   "metadata": {},
   "source": [
    "`__init__` fonksiyonu<br>\n",
    "oluşturulan bir sınıf üzerinden nesnenin üretimi esnasında çalışacak olan fonksiyondur. Bu fonksiyon aynı zamanda nesneye ait özelliklerin dışarıdan parametre olarak alınıp sınıf içerisine aktarılması amacıyla da kullanılmaktadır. Aynı zamanda construct(yapıcı) fonksiyon olarak anılır. `init` kelimesi initialize ifadesinden gelmekte olur başlangıcındaki ve sonundaki `__` ler onun özel bir fonksiyon olduğunu ifade etmektedir. "
   ]
  },
  {
   "cell_type": "code",
   "execution_count": 12,
   "metadata": {},
   "outputs": [],
   "source": [
    "class Sinif:\n",
    "    def __init__(self): # self örnek özellik ve metodları taşımak için kullanılan değişkendir.\n",
    "        self.a = \"1\"\n",
    "    def a(self):\n",
    "        print(self.a)\n"
   ]
  },
  {
   "cell_type": "code",
   "execution_count": 13,
   "metadata": {},
   "outputs": [
    {
     "data": {
      "text/plain": [
       "<__main__.Sinif at 0x7fe4a1659280>"
      ]
     },
     "execution_count": 13,
     "metadata": {},
     "output_type": "execute_result"
    }
   ],
   "source": [
    "Sinif()"
   ]
  },
  {
   "cell_type": "code",
   "execution_count": 14,
   "metadata": {},
   "outputs": [],
   "source": [
    "class Sinif:\n",
    "    def __init__(self,adi): # self örnek özellik ve metodları taşımak için kullanılan değişkendir.\n",
    "        self.a = \"1\"\n",
    "        self.adi = adi\n",
    "    def adiSoyle(self):\n",
    "        print(self.adi)"
   ]
  },
  {
   "cell_type": "code",
   "execution_count": 15,
   "metadata": {},
   "outputs": [
    {
     "name": "stdout",
     "output_type": "stream",
     "text": [
      "Kamil\n"
     ]
    }
   ],
   "source": [
    "nesne1 = Sinif(\"Kamil\")\n",
    "nesne1.adiSoyle()"
   ]
  },
  {
   "attachments": {},
   "cell_type": "markdown",
   "metadata": {},
   "source": [
    "#### 4. Örnek Özellik ve Metod<br>\n",
    "Sınıf üzerinden oluşturulan bir nesneye ait diğer nesneler farklı olan değerleri tutmak için örnek özellikleri (instance attributes) kullanılmaktadır. Aynı şekilde üretilecek olan nesneye özgü fonksiyonlar için örnek metodlar (instance method) kullanılır. Bir başka ifadeyle bu örnek özellik ve metodlar bir nesnede çalışıp o nesneye göre sonuç verirken başka bir nesnede farklı sonuç verebilmektedir. "
   ]
  },
  {
   "attachments": {},
   "cell_type": "markdown",
   "metadata": {},
   "source": [
    "Not: self ifadesi (`__init__ fonksiyonu içindeki __init__(self)`) bir gelenek olarak karşımıza çıkar, diğer programlama dillerinki `this` ile aynı işlevi görür. Tüm örnek özellik ve metodlara erişmemizi sağlar, yerine başka bir ifade kullanılması kodun okunabilirliğini azalttığı için önerilmez "
   ]
  },
  {
   "cell_type": "code",
   "execution_count": 19,
   "metadata": {},
   "outputs": [],
   "source": [
    "class Sinif:\n",
    "    def __init__(self,adi): # self örnek özellik ve metodları taşımak için kullanılan değişkendir.\n",
    "        self.a = \"1\" # örnek özellik çünkü self ile istediğim tüm örnek metodlardan erişebilirim\n",
    "        self.adi = adi # örnek özellik\n",
    "    def adiSoyle(self): # örnek metod self ile istediğim tüm örnek metodlarn erişebilirim\n",
    "        print(self.adi)\n",
    "\n",
    "    def soyle(self):\n",
    "        self.adiSoyle() # örnek metoda erişebilirim"
   ]
  },
  {
   "cell_type": "code",
   "execution_count": 20,
   "metadata": {},
   "outputs": [
    {
     "name": "stdout",
     "output_type": "stream",
     "text": [
      "Kamil\n",
      "Ceyda\n"
     ]
    }
   ],
   "source": [
    "nesne1 = Sinif(\"Kamil\")\n",
    "nesne2 = Sinif(\"Ceyda\")\n",
    "nesne1.soyle() # Kamil\n",
    "nesne2.soyle() # Ceyda"
   ]
  },
  {
   "attachments": {},
   "cell_type": "markdown",
   "metadata": {},
   "source": [
    "#### 5. Sınıf özellik ve metodu<br>\n",
    "Sınıf özellik ve metodu üretilen nesne üzerinden ya da sınıfın ismi kullanılarak erişebileceğimiz özellik ve metodlardır. cls ifadesi ile birbirleri arasında taşınabilirler, üretilen nesneye göre değişmezler.Sınıf metodlarını oluşturmak için `@classmethod` dekoratörü kullanılır"
   ]
  },
  {
   "cell_type": "code",
   "execution_count": 22,
   "metadata": {},
   "outputs": [],
   "source": [
    "class Sinif:\n",
    "    tur = \"Sınıf Özelliği\"\n",
    "    def __init__(self,ornekOzel1):\n",
    "        self.ornekOzel1 = ornekOzel1\n",
    "\n",
    "    def ornekMethod(self):\n",
    "        print(self.ornekOzel1)\n",
    "        \n",
    "    @classmethod\n",
    "    def sinifMetodu(cls):\n",
    "        print(cls.tur)\n",
    "\n"
   ]
  },
  {
   "cell_type": "code",
   "execution_count": 24,
   "metadata": {},
   "outputs": [],
   "source": [
    "nesne1 = Sinif(\"Nesne1\")\n",
    "nesne2 = Sinif(\"Nesne2\")"
   ]
  },
  {
   "cell_type": "code",
   "execution_count": 25,
   "metadata": {},
   "outputs": [
    {
     "name": "stdout",
     "output_type": "stream",
     "text": [
      "Nesne1\n"
     ]
    }
   ],
   "source": [
    "nesne1.ornekMethod()"
   ]
  },
  {
   "cell_type": "code",
   "execution_count": 27,
   "metadata": {},
   "outputs": [
    {
     "name": "stdout",
     "output_type": "stream",
     "text": [
      "Nesne2\n"
     ]
    }
   ],
   "source": [
    "nesne2.ornekMethod()"
   ]
  },
  {
   "cell_type": "code",
   "execution_count": 28,
   "metadata": {},
   "outputs": [
    {
     "name": "stdout",
     "output_type": "stream",
     "text": [
      "Sınıf Özelliği\n"
     ]
    }
   ],
   "source": [
    "nesne1.sinifMetodu()"
   ]
  },
  {
   "cell_type": "code",
   "execution_count": 29,
   "metadata": {},
   "outputs": [
    {
     "name": "stdout",
     "output_type": "stream",
     "text": [
      "Sınıf Özelliği\n"
     ]
    }
   ],
   "source": [
    "nesne2.sinifMetodu()"
   ]
  },
  {
   "cell_type": "code",
   "execution_count": 30,
   "metadata": {},
   "outputs": [
    {
     "name": "stdout",
     "output_type": "stream",
     "text": [
      "Sınıf Özelliği\n"
     ]
    }
   ],
   "source": [
    "Sinif.sinifMetodu()"
   ]
  },
  {
   "attachments": {},
   "cell_type": "markdown",
   "metadata": {},
   "source": [
    "##### Egzersiz <br>\n",
    "İlanı verilecek bir arabaya ait sınıf oluşturduğunuz düşündüğünüzde \n",
    "1. en az 3 örnek özelliği\n",
    "2. en az 1 sınıf özelliği \n",
    "3. en az 1 örnek metodu\n",
    "4. en az 1 sınıf metodu \n",
    "olan araba sınıfını python koduyla yazınız."
   ]
  },
  {
   "cell_type": "code",
   "execution_count": null,
   "metadata": {},
   "outputs": [],
   "source": [
    "class Araba:\n",
    "    tip = \"Sedan\"\n",
    "    def __init__(self,adi,model,km):\n",
    "        self.adi = adi\n",
    "        self.model = model\n",
    "        self.km = km\n",
    "    \n",
    "    def arabaBilgiVer(self):\n",
    "        print(self.adi)\n",
    "        print(self.model)\n",
    "        print(self.km)\n",
    "\n",
    "    @classmethod\n",
    "    def tipSoyle(cls):\n",
    "        print(cls.tip)"
   ]
  }
 ],
 "metadata": {
  "kernelspec": {
   "display_name": "Python 3",
   "language": "python",
   "name": "python3"
  },
  "language_info": {
   "codemirror_mode": {
    "name": "ipython",
    "version": 3
   },
   "file_extension": ".py",
   "mimetype": "text/x-python",
   "name": "python",
   "nbconvert_exporter": "python",
   "pygments_lexer": "ipython3",
   "version": "3.8.13 (default, Dec 30 2022, 16:12:50) \n[GCC 9.4.0]"
  },
  "orig_nbformat": 4,
  "vscode": {
   "interpreter": {
    "hash": "9ac03a0a6051494cc606d484d27d20fce22fb7b4d169f583271e11d5ba46a56e"
   }
  }
 },
 "nbformat": 4,
 "nbformat_minor": 2
}
